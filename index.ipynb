{
 "cells": [
  {
   "cell_type": "markdown",
   "metadata": {},
   "source": [
    "# SQL Subqueries - Lab\n",
    "\n",
    "## Introduction\n",
    "\n",
    "Now that you've seen how subqueries work, it's time to get some practice writing them! Not all of the queries will require subqueries, but all will be a bit more complex and require some thought and review about aggregates, grouping, ordering, filtering, joins and subqueries. Good luck!  \n",
    "\n",
    "## Objectives\n",
    "\n",
    "You will be able to:\n",
    "\n",
    "* Write subqueries to decompose complex queries\n",
    "\n",
    "## CRM Database Schema\n",
    "\n",
    "Once again, here's the schema for the CRM database you'll continue to practice with.\n",
    "\n",
    "<img src=\"images/Database-Schema.png\" width=\"600\">\n",
    "\n",
    "## Connect to the Database\n",
    "\n",
    "As usual, start by importing the necessary packages and connecting to the database **data.sqlite**."
   ]
  },
  {
   "cell_type": "code",
   "execution_count": 1,
   "metadata": {},
   "outputs": [],
   "source": [
    "import pandas as pd\n",
    "import sqlite3"
   ]
  },
  {
   "cell_type": "code",
   "execution_count": 2,
   "metadata": {},
   "outputs": [],
   "source": [
    "conn = sqlite3.connect('data.sqlite')\n",
    "cur = conn.cursor()"
   ]
  },
  {
   "cell_type": "markdown",
   "metadata": {},
   "source": [
    "## Write an Equivalent Query using a Subquery\n",
    "\n",
    "```SQL\n",
    "SELECT customerNumber,\n",
    "       contactLastName,\n",
    "       contactFirstName\n",
    "       FROM customers\n",
    "       JOIN orders \n",
    "       USING(customerNumber)\n",
    "       WHERE orderDate = '2003-01-31';\n",
    "```"
   ]
  },
  {
   "cell_type": "code",
   "execution_count": 4,
   "metadata": {},
   "outputs": [
    {
     "data": {
      "text/plain": [
       "[(141, 'Freyre', 'Diego ')]"
      ]
     },
     "execution_count": 4,
     "metadata": {},
     "output_type": "execute_result"
    }
   ],
   "source": [
    "cur.execute(\"\"\"SELECT customerNumber, contactLastName, contactFirstName\n",
    "               FROM customers\n",
    "               WHERE customerNumber IN (SELECT customerNumber\n",
    "                                        FROM orders\n",
    "                                        WHERE orderDate = '2003-01-31')\"\"\").fetchall()"
   ]
  },
  {
   "cell_type": "markdown",
   "metadata": {},
   "source": [
    "## Select the Total Number of Orders for Each Product Name\n",
    "\n",
    "Sort the results by the total number of items sold for that product."
   ]
  },
  {
   "cell_type": "code",
   "execution_count": 6,
   "metadata": {},
   "outputs": [
    {
     "data": {
      "text/plain": [
       "[('18th Century Vintage Horse Carriage', 907),\n",
       " ('18th century schooner', 1011),\n",
       " ('1900s Vintage Bi-Plane', 940),\n",
       " ('1900s Vintage Tri-Plane', 1009),\n",
       " ('1903 Ford Model A', 883),\n",
       " ('1904 Buick Runabout', 990),\n",
       " ('1911 Ford Town Car', 832),\n",
       " ('1912 Ford Model T Delivery Wagon', 991),\n",
       " ('1913 Ford Model T Speedster', 1038),\n",
       " ('1917 Grand Touring Sedan', 918),\n",
       " ('1917 Maxwell Touring Car', 992),\n",
       " ('1926 Ford Fire Engine', 998),\n",
       " ('1928 British Royal Navy Airplane', 972),\n",
       " ('1928 Ford Phaeton Deluxe', 972),\n",
       " ('1928 Mercedes-Benz SSK', 880),\n",
       " ('1930 Buick Marquette Phaeton', 1074),\n",
       " ('1932 Alfa Romeo 8C2300 Spider Sport', 866),\n",
       " ('1932 Model A Ford J-Coupe', 957),\n",
       " ('1934 Ford V8 Coupe', 985),\n",
       " ('1936 Chrysler Airflow', 983),\n",
       " ('1936 Harley Davidson El Knucklehead', 945),\n",
       " ('1936 Mercedes Benz 500k Roadster', 824),\n",
       " ('1936 Mercedes-Benz 500K Special Roadster', 960),\n",
       " ('1937 Horch 930V Limousine', 884),\n",
       " ('1937 Lincoln Berline', 1111),\n",
       " ('1938 Cadillac V-16 Presidential Limousine', 955),\n",
       " ('1939 Cadillac Limousine', 995),\n",
       " ('1939 Chevrolet Deluxe Coupe', 937),\n",
       " ('1940 Ford Delivery Sedan', 923),\n",
       " ('1940 Ford Pickup Truck', 999),\n",
       " ('1940s Ford truck', 1061),\n",
       " ('1941 Chevrolet Special Deluxe Cabriolet', 1076),\n",
       " ('1948 Porsche 356-A Roadster', 972),\n",
       " ('1948 Porsche Type 356 Roadster', 948),\n",
       " ('1949 Jaguar XK 120', 949),\n",
       " (\"1950's Chicago Surface Lines Streetcar\", 934),\n",
       " ('1952 Alpine Renault 1300', 961),\n",
       " ('1952 Citroen-15CV', 873),\n",
       " ('1954 Greyhound Scenicruiser', 955),\n",
       " ('1956 Porsche 356A Coupe', 1052),\n",
       " ('1957 Chevy Pickup', 1056),\n",
       " ('1957 Corvette Convertible', 1013),\n",
       " ('1957 Ford Thunderbird', 767),\n",
       " ('1957 Vespa GS150', 959),\n",
       " ('1958 Chevy Corvette Limited Edition', 983),\n",
       " ('1958 Setra Bus', 972),\n",
       " ('1960 BSA Gold Star DBD34', 1015),\n",
       " ('1961 Chevrolet Impala', 941),\n",
       " ('1962 City of Detroit Streetcar', 966),\n",
       " ('1962 LanciaA Delta 16V', 932),\n",
       " ('1962 Volkswagen Microbus', 1029),\n",
       " ('1964 Mercedes Tour Bus', 1053),\n",
       " ('1965 Aston Martin DB5', 914),\n",
       " ('1966 Shelby Cobra 427 S/C', 915),\n",
       " ('1968 Dodge Charger', 925),\n",
       " ('1968 Ford Mustang', 933),\n",
       " ('1969 Chevrolet Camaro Z28', 870),\n",
       " ('1969 Corvair Monza', 963),\n",
       " ('1969 Dodge Charger', 992),\n",
       " ('1969 Dodge Super Bee', 974),\n",
       " ('1969 Ford Falcon', 965),\n",
       " ('1969 Harley Davidson Ultimate Chopper', 1057),\n",
       " ('1970 Chevy Chevelle SS 454', 803),\n",
       " ('1970 Dodge Coronet', 976),\n",
       " ('1970 Plymouth Hemi Cuda', 900),\n",
       " ('1970 Triumph Spitfire', 945),\n",
       " ('1971 Alpine Renault 1600s', 969),\n",
       " ('1972 Alfa Romeo GTA', 1030),\n",
       " ('1974 Ducati 350 Mk3 Desmo', 898),\n",
       " ('1976 Ford Gran Torino', 915),\n",
       " ('1980s Black Hawk Helicopter', 1040),\n",
       " ('1980’s GM Manhattan Express', 911),\n",
       " ('1982 Camaro Z28', 997),\n",
       " ('1982 Ducati 900 Monster', 947),\n",
       " ('1982 Ducati 996 R', 906),\n",
       " ('1982 Lamborghini Diablo', 912),\n",
       " ('1992 Ferrari 360 Spider red', 1808),\n",
       " ('1992 Porsche Cayenne Turbo Silver', 867),\n",
       " ('1993 Mazda RX-7', 947),\n",
       " ('1995 Honda Civic', 917),\n",
       " ('1996 Moto Guzzi 1100i', 999),\n",
       " ('1996 Peterbilt 379 Stake Bed with Outrigger', 988),\n",
       " ('1997 BMW F650 ST', 1014),\n",
       " ('1997 BMW R 1100 S', 1033),\n",
       " ('1998 Chrysler Plymouth Prowler', 986),\n",
       " ('1999 Indy 500 Monte Carlo SS', 855),\n",
       " ('1999 Yamaha Speed Boat', 966),\n",
       " ('2001 Ferrari Enzo', 1019),\n",
       " ('2002 Chevy Corvette', 894),\n",
       " ('2002 Suzuki XREO', 1028),\n",
       " ('2002 Yamaha YZR M1', 992),\n",
       " ('2003 Harley-Davidson Eagle Drag Bike', 985),\n",
       " ('ATA: B757-300', 973),\n",
       " ('America West Airlines B757-200', 984),\n",
       " ('American Airlines: B767-300', 894),\n",
       " ('American Airlines: MD-11S', 1085),\n",
       " ('Boeing X-32A JSF', 960),\n",
       " ('Collectable Wooden Train', 918),\n",
       " ('Corsair F4U ( Bird Cage)', 1051),\n",
       " ('Diamond T620 Semi-Skirted Tanker', 979),\n",
       " ('F/A 18 Hornet 1/72', 1047),\n",
       " ('HMS Bounty', 897),\n",
       " ('P-51-D Mustang', 917),\n",
       " ('Pont Yacht', 958),\n",
       " ('The Mayflower', 898),\n",
       " ('The Queen Mary', 896),\n",
       " ('The Schooner Bluenose', 934),\n",
       " ('The Titanic', 952),\n",
       " ('The USS Constitution Ship', 1020)]"
      ]
     },
     "execution_count": 6,
     "metadata": {},
     "output_type": "execute_result"
    }
   ],
   "source": [
    "cur.execute(\"\"\"SELECT productName, SUM(quantityOrdered) AS sum\n",
    "               FROM products\n",
    "               JOIN orderdetails\n",
    "               USING(productCode)\n",
    "               GROUP BY productName\"\"\").fetchall()"
   ]
  },
  {
   "cell_type": "markdown",
   "metadata": {},
   "source": [
    "## Select the Product Name and the  Total Number of People Who Have Ordered Each Product\n",
    "\n",
    "Sort the results in descending order."
   ]
  },
  {
   "cell_type": "markdown",
   "metadata": {},
   "source": [
    "### A quick note on the SQL  `SELECT DISTINCT` statement:"
   ]
  },
  {
   "cell_type": "markdown",
   "metadata": {},
   "source": [
    "The `SELECT DISTINCT` statement is used to return only distinct values in the specified column. In other words, it removes the duplicate values in the column from the result set.\n",
    "\n",
    "Inside a table, a column often contains many duplicate values; and sometimes you only want to list the unique values. If you apply the `DISTINCT` clause to a column that has `NULL`, the `DISTINCT` clause will keep only one NULL and eliminates the other. In other words, the DISTINCT clause treats all `NULL` “values” as the same value."
   ]
  },
  {
   "cell_type": "code",
   "execution_count": 9,
   "metadata": {},
   "outputs": [
    {
     "data": {
      "text/plain": [
       "[('1992 Ferrari 360 Spider red', 40),\n",
       " ('Boeing X-32A JSF', 27),\n",
       " ('1972 Alfa Romeo GTA', 27),\n",
       " ('1952 Alpine Renault 1300', 27),\n",
       " ('1934 Ford V8 Coupe', 27),\n",
       " ('HMS Bounty', 26),\n",
       " ('Corsair F4U ( Bird Cage)', 26),\n",
       " ('American Airlines: MD-11S', 26),\n",
       " ('1999 Yamaha Speed Boat', 26),\n",
       " ('1996 Moto Guzzi 1100i', 26),\n",
       " ('1995 Honda Civic', 26),\n",
       " ('1980s Black Hawk Helicopter', 26),\n",
       " ('1969 Harley Davidson Ultimate Chopper', 26),\n",
       " ('1941 Chevrolet Special Deluxe Cabriolet', 26),\n",
       " ('1940 Ford Delivery Sedan', 26),\n",
       " ('1937 Horch 930V Limousine', 26),\n",
       " ('1913 Ford Model T Speedster', 26),\n",
       " ('1900s Vintage Bi-Plane', 26),\n",
       " ('18th Century Vintage Horse Carriage', 26),\n",
       " ('America West Airlines B757-200', 25),\n",
       " ('ATA: B757-300', 25),\n",
       " ('2003 Harley-Davidson Eagle Drag Bike', 25),\n",
       " ('2002 Suzuki XREO', 25),\n",
       " ('1997 BMW R 1100 S', 25),\n",
       " ('1993 Mazda RX-7', 25),\n",
       " ('1962 LanciaA Delta 16V', 25),\n",
       " ('1960 BSA Gold Star DBD34', 25),\n",
       " ('1948 Porsche 356-A Roadster', 25),\n",
       " ('1940s Ford truck', 25),\n",
       " ('1940 Ford Pickup Truck', 25),\n",
       " ('1937 Lincoln Berline', 25),\n",
       " ('1936 Mercedes-Benz 500K Special Roadster', 25),\n",
       " ('1936 Harley Davidson El Knucklehead', 25),\n",
       " ('1912 Ford Model T Delivery Wagon', 25),\n",
       " ('The Queen Mary', 24),\n",
       " ('Pont Yacht', 24),\n",
       " ('P-51-D Mustang', 24),\n",
       " ('F/A 18 Hornet 1/72', 24),\n",
       " ('2002 Yamaha YZR M1', 24),\n",
       " ('1997 BMW F650 ST', 24),\n",
       " ('1969 Dodge Charger', 24),\n",
       " ('1939 Chevrolet Deluxe Coupe', 24),\n",
       " ('1936 Chrysler Airflow', 24),\n",
       " ('1932 Model A Ford J-Coupe', 24),\n",
       " ('1917 Maxwell Touring Car', 24),\n",
       " ('1917 Grand Touring Sedan', 24),\n",
       " ('18th century schooner', 24),\n",
       " ('The USS Constitution Ship', 23),\n",
       " ('The Schooner Bluenose', 23),\n",
       " ('American Airlines: B767-300', 23),\n",
       " ('2001 Ferrari Enzo', 23),\n",
       " ('1996 Peterbilt 379 Stake Bed with Outrigger', 23),\n",
       " ('1980’s GM Manhattan Express', 23),\n",
       " ('1974 Ducati 350 Mk3 Desmo', 23),\n",
       " ('1970 Plymouth Hemi Cuda', 23),\n",
       " ('1968 Ford Mustang', 23),\n",
       " ('1958 Setra Bus', 23),\n",
       " ('1939 Cadillac Limousine', 23),\n",
       " ('1938 Cadillac V-16 Presidential Limousine', 23),\n",
       " ('1932 Alfa Romeo 8C2300 Spider Sport', 23),\n",
       " ('1930 Buick Marquette Phaeton', 23),\n",
       " ('1928 Ford Phaeton Deluxe', 23),\n",
       " ('1926 Ford Fire Engine', 23),\n",
       " ('1911 Ford Town Car', 23),\n",
       " ('The Titanic', 22),\n",
       " ('The Mayflower', 22),\n",
       " ('Diamond T620 Semi-Skirted Tanker', 22),\n",
       " ('1982 Ducati 900 Monster', 22),\n",
       " ('1982 Camaro Z28', 22),\n",
       " ('1971 Alpine Renault 1600s', 22),\n",
       " ('1969 Ford Falcon', 22),\n",
       " ('1969 Corvair Monza', 22),\n",
       " ('1968 Dodge Charger', 22),\n",
       " ('1965 Aston Martin DB5', 22),\n",
       " ('1964 Mercedes Tour Bus', 22),\n",
       " ('1962 City of Detroit Streetcar', 22),\n",
       " ('1961 Chevrolet Impala', 22),\n",
       " ('1956 Porsche 356A Coupe', 22),\n",
       " (\"1950's Chicago Surface Lines Streetcar\", 22),\n",
       " ('1928 British Royal Navy Airplane', 22),\n",
       " ('1904 Buick Runabout', 22),\n",
       " ('1900s Vintage Tri-Plane', 22),\n",
       " ('1999 Indy 500 Monte Carlo SS', 21),\n",
       " ('1998 Chrysler Plymouth Prowler', 21),\n",
       " ('1982 Lamborghini Diablo', 21),\n",
       " ('1982 Ducati 996 R', 21),\n",
       " ('1970 Triumph Spitfire', 21),\n",
       " ('1969 Dodge Super Bee', 21),\n",
       " ('1966 Shelby Cobra 427 S/C', 21),\n",
       " ('1962 Volkswagen Microbus', 21),\n",
       " ('1957 Vespa GS150', 21),\n",
       " ('1957 Corvette Convertible', 21),\n",
       " ('1957 Chevy Pickup', 21),\n",
       " ('1948 Porsche Type 356 Roadster', 21),\n",
       " ('1936 Mercedes Benz 500k Roadster', 21),\n",
       " ('1928 Mercedes-Benz SSK', 21),\n",
       " ('1903 Ford Model A', 21),\n",
       " ('Collectable Wooden Train', 20),\n",
       " ('1992 Porsche Cayenne Turbo Silver', 20),\n",
       " ('1976 Ford Gran Torino', 20),\n",
       " ('1970 Dodge Coronet', 20),\n",
       " ('1970 Chevy Chevelle SS 454', 20),\n",
       " ('1957 Ford Thunderbird', 20),\n",
       " ('1954 Greyhound Scenicruiser', 20),\n",
       " ('1958 Chevy Corvette Limited Edition', 19),\n",
       " ('2002 Chevy Corvette', 18),\n",
       " ('1969 Chevrolet Camaro Z28', 18),\n",
       " ('1952 Citroen-15CV', 18),\n",
       " ('1949 Jaguar XK 120', 18)]"
      ]
     },
     "execution_count": 9,
     "metadata": {},
     "output_type": "execute_result"
    }
   ],
   "source": [
    "cur.execute(\"\"\"SELECT productName, COUNT(DISTINCT customerNumber) AS numPurchasers\n",
    "               FROM products\n",
    "               JOIN orderdetails\n",
    "               USING(productCode)\n",
    "               JOIN orders\n",
    "               USING(orderNumber)\n",
    "               GROUP BY productName\n",
    "               ORDER BY numPurchasers DESC\"\"\").fetchall()"
   ]
  },
  {
   "cell_type": "markdown",
   "metadata": {},
   "source": [
    "## Select the Employee Number, First Name, Last Name, City (of the office), and Office Code of the Employees Who Sold Products Which Have Been Ordered by Less Then 20 people.\n",
    "\n",
    "This problem is a bit tougher. To start, think about how you might break the problem up. Be sure that your results only list each employee once."
   ]
  },
  {
   "cell_type": "code",
   "execution_count": 12,
   "metadata": {},
   "outputs": [
    {
     "data": {
      "text/plain": [
       "[(1370, 4, 'Paris', 'Gerard', 'Hernandez'),\n",
       " (1501, 7, 'London', 'Larry', 'Bott'),\n",
       " (1337, 4, 'Paris', 'Loui', 'Bondur'),\n",
       " (1166, 1, 'San Francisco', 'Leslie', 'Thompson'),\n",
       " (1286, 3, 'NYC', 'Foon Yue', 'Tseng'),\n",
       " (1612, 6, 'Sydney', 'Peter', 'Marsh'),\n",
       " (1611, 6, 'Sydney', 'Andy', 'Fixter'),\n",
       " (1401, 4, 'Paris', 'Pamela', 'Castillo'),\n",
       " (1621, 5, 'Tokyo', 'Mami', 'Nishi'),\n",
       " (1323, 3, 'NYC', 'George', 'Vanauf'),\n",
       " (1165, 1, 'San Francisco', 'Leslie', 'Jennings'),\n",
       " (1702, 4, 'Paris', 'Martin', 'Gerard'),\n",
       " (1216, 2, 'Boston', 'Steve', 'Patterson'),\n",
       " (1188, 2, 'Boston', 'Julie', 'Firrelli'),\n",
       " (1504, 7, 'London', 'Barry', 'Jones')]"
      ]
     },
     "execution_count": 12,
     "metadata": {},
     "output_type": "execute_result"
    }
   ],
   "source": [
    "cur.execute(\"\"\"SELECT DISTINCT(employeeNumber), officeCode, o.city, firstName, lastName\n",
    "               FROM employees e\n",
    "               JOIN offices o\n",
    "               USING(officeCode)\n",
    "               JOIN customers c\n",
    "               ON e.employeeNumber = c.salesRepEmployeeNumber\n",
    "               JOIN orders\n",
    "               USING(customerNumber)\n",
    "               JOIN orderdetails\n",
    "               USING(orderNumber)\n",
    "               WHERE productCode IN (SELECT productCode\n",
    "                                            FROM products\n",
    "                                            JOIN orderdetails\n",
    "                                            USING(productCode)\n",
    "                                            JOIN orders\n",
    "                                            USING(orderNumber)\n",
    "                                            GROUP BY productCode\n",
    "                                            HAVING COUNT(DISTINCT customerNumber) < 20)\"\"\").fetchall()"
   ]
  },
  {
   "cell_type": "markdown",
   "metadata": {},
   "source": [
    "## Select the Employee Number, First Name, Last Name, and Number of Customers for Employees Whose Customers Have an Average Credit Limit of Over 15K"
   ]
  },
  {
   "cell_type": "code",
   "execution_count": 10,
   "metadata": {},
   "outputs": [
    {
     "data": {
      "text/plain": [
       "[(1165, 'Leslie', 'Jennings', 6),\n",
       " (1166, 'Leslie', 'Thompson', 6),\n",
       " (1188, 'Julie', 'Firrelli', 6),\n",
       " (1216, 'Steve', 'Patterson', 6),\n",
       " (1286, 'Foon Yue', 'Tseng', 7),\n",
       " (1323, 'George', 'Vanauf', 8),\n",
       " (1337, 'Loui', 'Bondur', 6),\n",
       " (1370, 'Gerard', 'Hernandez', 7),\n",
       " (1401, 'Pamela', 'Castillo', 10),\n",
       " (1501, 'Larry', 'Bott', 8),\n",
       " (1504, 'Barry', 'Jones', 9),\n",
       " (1611, 'Andy', 'Fixter', 5),\n",
       " (1612, 'Peter', 'Marsh', 5),\n",
       " (1621, 'Mami', 'Nishi', 5),\n",
       " (1702, 'Martin', 'Gerard', 6)]"
      ]
     },
     "execution_count": 10,
     "metadata": {},
     "output_type": "execute_result"
    }
   ],
   "source": [
    "cur.execute(\"\"\"SELECT employeeNumber, firstName, lastName, COUNT(customerNumber) AS numCustomers\n",
    "               FROM employees e\n",
    "               JOIN customers c\n",
    "               ON e.employeeNumber = c.salesRepEmployeeNumber\n",
    "               GROUP BY employeeNumber, firstName, lastName\n",
    "               HAVING AVG(creditLimit) > 15000\"\"\").fetchall()"
   ]
  },
  {
   "cell_type": "markdown",
   "metadata": {},
   "source": [
    "## Summary\n",
    "\n",
    "In this lesson, you got to practice some more complex SQL queries, some of which required subqueries. There's still plenty more SQL to be had though; hope you've been enjoying some of these puzzles!"
   ]
  }
 ],
 "metadata": {
  "kernelspec": {
   "display_name": "Python 3",
   "language": "python",
   "name": "python3"
  },
  "language_info": {
   "codemirror_mode": {
    "name": "ipython",
    "version": 3
   },
   "file_extension": ".py",
   "mimetype": "text/x-python",
   "name": "python",
   "nbconvert_exporter": "python",
   "pygments_lexer": "ipython3",
   "version": "3.6.9"
  },
  "toc": {
   "base_numbering": 1,
   "nav_menu": {},
   "number_sections": true,
   "sideBar": true,
   "skip_h1_title": false,
   "title_cell": "Table of Contents",
   "title_sidebar": "Contents",
   "toc_cell": false,
   "toc_position": {},
   "toc_section_display": true,
   "toc_window_display": false
  }
 },
 "nbformat": 4,
 "nbformat_minor": 2
}
